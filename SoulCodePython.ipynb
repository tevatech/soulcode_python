{
  "nbformat": 4,
  "nbformat_minor": 0,
  "metadata": {
    "colab": {
      "provenance": [],
      "authorship_tag": "ABX9TyNZLDxAU5iRvw9XB8MDdb/Y",
      "include_colab_link": true
    },
    "kernelspec": {
      "name": "python3",
      "display_name": "Python 3"
    },
    "language_info": {
      "name": "python"
    }
  },
  "cells": [
    {
      "cell_type": "markdown",
      "metadata": {
        "id": "view-in-github",
        "colab_type": "text"
      },
      "source": [
        "<a href=\"https://colab.research.google.com/github/tevatech/soulcode_python/blob/main/SoulCodePython.ipynb\" target=\"_parent\"><img src=\"https://colab.research.google.com/assets/colab-badge.svg\" alt=\"Open In Colab\"/></a>"
      ]
    },
    {
      "cell_type": "markdown",
      "source": [
        "#Dicionários"
      ],
      "metadata": {
        "id": "aeM0etiK2zVh"
      }
    },
    {
      "cell_type": "code",
      "execution_count": null,
      "metadata": {
        "colab": {
          "base_uri": "https://localhost:8080/"
        },
        "id": "aNmsJAIgtSIV",
        "outputId": "7b7e6bdb-334e-492e-81b0-6ffe27afbb22"
      },
      "outputs": [
        {
          "output_type": "stream",
          "name": "stdout",
          "text": [
            "LetraA\n",
            "LetraC\n"
          ]
        }
      ],
      "source": [
        "dicionario = {\"a\":\"LetraA\", \"b\":\"LetraB\", \"c\":\"LetraC\"}\n",
        "print(dicionario[\"a\"])\n",
        "print(dicionario.get('c','Valor não encontrado!'))"
      ]
    },
    {
      "cell_type": "markdown",
      "source": [
        "**Funções com Dicionários**"
      ],
      "metadata": {
        "id": "EJQEk0SG3_Wu"
      }
    },
    {
      "cell_type": "code",
      "source": [
        "agenda = {40401250:\"José\", 85874152:\"Maria\", 94140214:\"João\", 36412541:\"Claudia\"}\n",
        "print(agenda)\n",
        "del(agenda[40401250])\n",
        "print(agenda)\n",
        "print(\"-----------------------\")\n",
        "print(agenda.keys())\n",
        "print(agenda.values())\n",
        "print(\"-----------------------\")\n",
        "print(agenda.popitem())\n",
        "print(agenda)"
      ],
      "metadata": {
        "colab": {
          "base_uri": "https://localhost:8080/"
        },
        "id": "Rwzn3dux4Cd6",
        "outputId": "8c96ee3a-7720-4fe0-a04c-35a9f2fee255"
      },
      "execution_count": null,
      "outputs": [
        {
          "output_type": "stream",
          "name": "stdout",
          "text": [
            "{40401250: 'José', 85874152: 'Maria', 94140214: 'João', 36412541: 'Claudia'}\n",
            "{85874152: 'Maria', 94140214: 'João', 36412541: 'Claudia'}\n",
            "-----------------------\n",
            "dict_keys([85874152, 94140214, 36412541])\n",
            "dict_values(['Maria', 'João', 'Claudia'])\n",
            "-----------------------\n",
            "(36412541, 'Claudia')\n",
            "{85874152: 'Maria', 94140214: 'João'}\n"
          ]
        }
      ]
    },
    {
      "cell_type": "markdown",
      "source": [
        "**Exercício**"
      ],
      "metadata": {
        "id": "RH_Bb2sX5fsM"
      }
    },
    {
      "cell_type": "code",
      "source": [
        "dias_da_semana = {\"dia1\":\"domingo\",\"dia2\":\"segunda\",\"dia3\":\"terça\" , \"dia4\":\"quarta\", \"dia5\":\"quinta\", \"dia6\":\"sexta\", \"dia7\":\"sábado\"}\n",
        "dias_da_semana.popitem()\n",
        "dias_da_semana.popitem()\n",
        "\n",
        "del(dias_da_semana[\"dia2\"])\n",
        "\n",
        "print(dias_da_semana.keys())\n",
        "print(dias_da_semana.values())\n",
        "\n",
        "print(dias_da_semana)"
      ],
      "metadata": {
        "colab": {
          "base_uri": "https://localhost:8080/"
        },
        "id": "J5fUy1CT5iLt",
        "outputId": "a15aaa15-e02f-48c2-f1a2-1b005f0a8bee"
      },
      "execution_count": null,
      "outputs": [
        {
          "output_type": "stream",
          "name": "stdout",
          "text": [
            "dict_keys(['dia1', 'dia3', 'dia4', 'dia5'])\n",
            "dict_values(['domingo', 'terça', 'quarta', 'quinta'])\n",
            "{'dia1': 'domingo', 'dia3': 'terça', 'dia4': 'quarta', 'dia5': 'quinta'}\n"
          ]
        }
      ]
    },
    {
      "cell_type": "markdown",
      "source": [
        "#Funções\n"
      ],
      "metadata": {
        "id": "Uyf6sdH-Skq3"
      }
    },
    {
      "cell_type": "code",
      "source": [
        "def soma(a,b):\n",
        "  x = a + b\n",
        "  print(x)"
      ],
      "metadata": {
        "id": "t1SsH-TESoMm"
      },
      "execution_count": 10,
      "outputs": []
    },
    {
      "cell_type": "markdown",
      "source": [
        "**Retorno de função**"
      ],
      "metadata": {
        "id": "eM6TsrNDU9cU"
      }
    },
    {
      "cell_type": "code",
      "source": [
        "def mult(a,b):\n",
        "  return a * b\n",
        "\n",
        "print(mult(2,5))"
      ],
      "metadata": {
        "colab": {
          "base_uri": "https://localhost:8080/"
        },
        "id": "OBImkbHWVAAH",
        "outputId": "7870e4ac-48da-4469-c279-4599cb6c7e2b"
      },
      "execution_count": 11,
      "outputs": [
        {
          "output_type": "stream",
          "name": "stdout",
          "text": [
            "10\n"
          ]
        }
      ]
    },
    {
      "cell_type": "markdown",
      "source": [
        "Exercício prático\n",
        "**negrito**\n"
      ],
      "metadata": {
        "id": "ZOcDMM_AVl9G"
      }
    },
    {
      "cell_type": "code",
      "source": [
        "def calculadora(a,b):\n",
        "  soma = a + b\n",
        "  sub = a - b\n",
        "  div = a / b\n",
        "  multi = a * b\n",
        "  print(\"soma =\", soma, \"\\nsubtração =\", sub, \"\\ndivisão =\", div, \"\\nmultiplicação =\", multi)\n",
        "\n",
        "calculadora(6,2)"
      ],
      "metadata": {
        "colab": {
          "base_uri": "https://localhost:8080/"
        },
        "id": "p6JGZbH5VoEA",
        "outputId": "672680f9-5dc8-417b-e912-0eceb132fc2a"
      },
      "execution_count": 13,
      "outputs": [
        {
          "output_type": "stream",
          "name": "stdout",
          "text": [
            "soma = 8 \n",
            "subtração = 4 \n",
            "divisão = 3.0 \n",
            "multiplicação = 12\n"
          ]
        }
      ]
    },
    {
      "cell_type": "markdown",
      "source": [
        "#Prática Proposta – Desafio Final"
      ],
      "metadata": {
        "id": "IzUK5CrDXmj4"
      }
    },
    {
      "cell_type": "code",
      "source": [
        "def soma(a,b):\n",
        "  return a + b\n",
        "\n",
        "def sub(a,b):\n",
        "  return a - b\n",
        "\n",
        "def div(a,b):\n",
        "   if b != 0:\n",
        "        return a / b\n",
        "   else:\n",
        "        return \"Erro: divisão por zero\"\n",
        "\n",
        "def mult(a,b):\n",
        " return a*b\n",
        "\n",
        "def listar():\n",
        "  vantagens = [\n",
        "        \"Sintaxe simples e legível\",\"Ampla biblioteca padrão\",\"Portabilidade entre plataformas\",\"Suporte a programação orientada a objetos\",\"Grande comunidade de desenvolvedores\",]\n",
        "  for vantagem in vantagens:\n",
        "        print(vantagem)\n",
        "\n",
        "print(\"Menu: \\n1. Somar \\n2. Subtrair \\n3. Dividir \\n4. Multiplicar \\n5. Listar vantagens do Python\")\n",
        "\n",
        "entrada = input(\"Escolha sua função: \")\n",
        "\n",
        "if entrada == \"5\":\n",
        "  listar()\n",
        "else:\n",
        "  if entrada == \"1\":\n",
        "    x = int(input(\"Digite o primeiro numero: \"))\n",
        "    y = int(input(\"Digite o segundo numero: \"))\n",
        "    resultado = soma(x,y)\n",
        "    print(\"Resultado: \", resultado)\n",
        "\n",
        "  else:\n",
        "    if entrada == \"2\":\n",
        "      x = int(input(\"Digite o primeiro numero: \"))\n",
        "      y = int(input(\"Digite o segundo numero: \"))\n",
        "      resultado = sub(x,y)\n",
        "      print(\"Resultado: \", resultado)\n",
        "\n",
        "    else:\n",
        "      if entrada == \"3\":\n",
        "        x = int(input(\"Digite o primeiro numero: \"))\n",
        "        y = int(input(\"Digite o segundo numero: \"))\n",
        "        resultado = div(x,y)\n",
        "        print(\"Resultado: \", resultado)\n",
        "\n",
        "      else:\n",
        "        if entrada == \"4\":\n",
        "          x = int(input(\"Digite o primeiro numero: \"))\n",
        "          y = int(input(\"Digite o segundo numero: \"))\n",
        "          resultado = mult(x,y)\n",
        "          print(\"Resultado: \", resultado)\n",
        "\n",
        "        else:\n",
        "          print(\"Valor inserido errado!!!\")"
      ],
      "metadata": {
        "colab": {
          "base_uri": "https://localhost:8080/"
        },
        "id": "Wd6hLNzFXpeW",
        "outputId": "f693c8a1-aeb6-4756-b264-2208b9e74c32"
      },
      "execution_count": 22,
      "outputs": [
        {
          "output_type": "stream",
          "name": "stdout",
          "text": [
            "Menu: \n",
            "1. Somar \n",
            "2. Subtrair \n",
            "3. Dividir \n",
            "4. Multiplicar \n",
            "5. Listar vantagens do Python\n",
            "Escolha sua função: 2\n",
            "Digite o primeiro numero: 4\n",
            "Digite o segundo numero: 7\n",
            "Resultado:  -3\n"
          ]
        }
      ]
    }
  ]
}
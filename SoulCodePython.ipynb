{
  "nbformat": 4,
  "nbformat_minor": 0,
  "metadata": {
    "colab": {
      "provenance": [],
      "authorship_tag": "ABX9TyMu2IlF25KAOHDc+ZXXs3fP",
      "include_colab_link": true
    },
    "kernelspec": {
      "name": "python3",
      "display_name": "Python 3"
    },
    "language_info": {
      "name": "python"
    }
  },
  "cells": [
    {
      "cell_type": "markdown",
      "metadata": {
        "id": "view-in-github",
        "colab_type": "text"
      },
      "source": [
        "<a href=\"https://colab.research.google.com/github/tevatech/soulcode_python/blob/main/SoulCodePython.ipynb\" target=\"_parent\"><img src=\"https://colab.research.google.com/assets/colab-badge.svg\" alt=\"Open In Colab\"/></a>"
      ]
    },
    {
      "cell_type": "markdown",
      "source": [
        "#Dicionários"
      ],
      "metadata": {
        "id": "aeM0etiK2zVh"
      }
    },
    {
      "cell_type": "code",
      "execution_count": 1,
      "metadata": {
        "colab": {
          "base_uri": "https://localhost:8080/"
        },
        "id": "aNmsJAIgtSIV",
        "outputId": "7b7e6bdb-334e-492e-81b0-6ffe27afbb22"
      },
      "outputs": [
        {
          "output_type": "stream",
          "name": "stdout",
          "text": [
            "LetraA\n",
            "LetraC\n"
          ]
        }
      ],
      "source": [
        "dicionario = {\"a\":\"LetraA\", \"b\":\"LetraB\", \"c\":\"LetraC\"}\n",
        "print(dicionario[\"a\"])\n",
        "print(dicionario.get('c','Valor não encontrado!'))"
      ]
    },
    {
      "cell_type": "markdown",
      "source": [
        "**Funções com Dicionários**"
      ],
      "metadata": {
        "id": "EJQEk0SG3_Wu"
      }
    },
    {
      "cell_type": "code",
      "source": [
        "agenda = {40401250:\"José\", 85874152:\"Maria\", 94140214:\"João\", 36412541:\"Claudia\"}\n",
        "print(agenda)\n",
        "del(agenda[40401250])\n",
        "print(agenda)\n",
        "print(\"-----------------------\")\n",
        "print(agenda.keys())\n",
        "print(agenda.values())\n",
        "print(\"-----------------------\")\n",
        "print(agenda.popitem())\n",
        "print(agenda)"
      ],
      "metadata": {
        "colab": {
          "base_uri": "https://localhost:8080/"
        },
        "id": "Rwzn3dux4Cd6",
        "outputId": "8c96ee3a-7720-4fe0-a04c-35a9f2fee255"
      },
      "execution_count": 2,
      "outputs": [
        {
          "output_type": "stream",
          "name": "stdout",
          "text": [
            "{40401250: 'José', 85874152: 'Maria', 94140214: 'João', 36412541: 'Claudia'}\n",
            "{85874152: 'Maria', 94140214: 'João', 36412541: 'Claudia'}\n",
            "-----------------------\n",
            "dict_keys([85874152, 94140214, 36412541])\n",
            "dict_values(['Maria', 'João', 'Claudia'])\n",
            "-----------------------\n",
            "(36412541, 'Claudia')\n",
            "{85874152: 'Maria', 94140214: 'João'}\n"
          ]
        }
      ]
    },
    {
      "cell_type": "markdown",
      "source": [
        "**Exercício**"
      ],
      "metadata": {
        "id": "RH_Bb2sX5fsM"
      }
    },
    {
      "cell_type": "code",
      "source": [
        "dias_da_semana = {\"dia1\":\"domingo\",\"dia2\":\"segunda\",\"dia3\":\"terça\" , \"dia4\":\"quarta\", \"dia5\":\"quinta\", \"dia6\":\"sexta\", \"dia7\":\"sábado\"}\n",
        "dias_da_semana.popitem()\n",
        "dias_da_semana.popitem()\n",
        "\n",
        "del(dias_da_semana[\"dia2\"])\n",
        "\n",
        "print(dias_da_semana.keys())\n",
        "print(dias_da_semana.values())\n",
        "\n",
        "print(dias_da_semana)"
      ],
      "metadata": {
        "colab": {
          "base_uri": "https://localhost:8080/"
        },
        "id": "J5fUy1CT5iLt",
        "outputId": "a15aaa15-e02f-48c2-f1a2-1b005f0a8bee"
      },
      "execution_count": 3,
      "outputs": [
        {
          "output_type": "stream",
          "name": "stdout",
          "text": [
            "dict_keys(['dia1', 'dia3', 'dia4', 'dia5'])\n",
            "dict_values(['domingo', 'terça', 'quarta', 'quinta'])\n",
            "{'dia1': 'domingo', 'dia3': 'terça', 'dia4': 'quarta', 'dia5': 'quinta'}\n"
          ]
        }
      ]
    }
  ]
}